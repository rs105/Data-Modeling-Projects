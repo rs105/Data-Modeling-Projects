{
 "cells": [
  {
   "cell_type": "code",
   "execution_count": 1,
   "metadata": {},
   "outputs": [],
   "source": [
    "import pandas as pd\n",
    "import numpy as np\n",
    "import re\n",
    "from datetime import datetime"
   ]
  },
  {
   "cell_type": "code",
   "execution_count": 2,
   "metadata": {},
   "outputs": [
    {
     "data": {
      "text/html": [
       "<div>\n",
       "<style scoped>\n",
       "    .dataframe tbody tr th:only-of-type {\n",
       "        vertical-align: middle;\n",
       "    }\n",
       "\n",
       "    .dataframe tbody tr th {\n",
       "        vertical-align: top;\n",
       "    }\n",
       "\n",
       "    .dataframe thead th {\n",
       "        text-align: right;\n",
       "    }\n",
       "</style>\n",
       "<table border=\"1\" class=\"dataframe\">\n",
       "  <thead>\n",
       "    <tr style=\"text-align: right;\">\n",
       "      <th></th>\n",
       "      <th>name</th>\n",
       "      <th>author</th>\n",
       "      <th>narrator</th>\n",
       "      <th>time</th>\n",
       "      <th>releasedate</th>\n",
       "      <th>language</th>\n",
       "      <th>stars</th>\n",
       "      <th>price</th>\n",
       "    </tr>\n",
       "  </thead>\n",
       "  <tbody>\n",
       "    <tr>\n",
       "      <th>0</th>\n",
       "      <td>Geronimo Stilton #11 &amp; #12</td>\n",
       "      <td>Writtenby:GeronimoStilton</td>\n",
       "      <td>Narratedby:BillLobely</td>\n",
       "      <td>2 hrs and 20 mins</td>\n",
       "      <td>04-08-08</td>\n",
       "      <td>English</td>\n",
       "      <td>5 out of 5 stars34 ratings</td>\n",
       "      <td>468.00</td>\n",
       "    </tr>\n",
       "    <tr>\n",
       "      <th>1</th>\n",
       "      <td>The Lightning Thief: Percy Jackson, Book 1</td>\n",
       "      <td>Writtenby:RickRiordan</td>\n",
       "      <td>Narratedby:JesseBernstein</td>\n",
       "      <td>10 hrs</td>\n",
       "      <td>13-01-10</td>\n",
       "      <td>English</td>\n",
       "      <td>4.5 out of 5 stars181 ratings</td>\n",
       "      <td>820.00</td>\n",
       "    </tr>\n",
       "    <tr>\n",
       "      <th>2</th>\n",
       "      <td>Magic Tree House Collection: Books 9-16</td>\n",
       "      <td>Writtenby:MaryPopeOsborne</td>\n",
       "      <td>Narratedby:MaryPopeOsborne</td>\n",
       "      <td>5 hrs and 23 mins</td>\n",
       "      <td>24-08-11</td>\n",
       "      <td>English</td>\n",
       "      <td>5 out of 5 stars6 ratings</td>\n",
       "      <td>1,206.00</td>\n",
       "    </tr>\n",
       "    <tr>\n",
       "      <th>3</th>\n",
       "      <td>Magnus Chase and the Ship of the Dead</td>\n",
       "      <td>Writtenby:RickRiordan</td>\n",
       "      <td>Narratedby:MichaelCrouch</td>\n",
       "      <td>12 hrs and 58 mins</td>\n",
       "      <td>03-10-17</td>\n",
       "      <td>English</td>\n",
       "      <td>5 out of 5 stars41 ratings</td>\n",
       "      <td>820.00</td>\n",
       "    </tr>\n",
       "    <tr>\n",
       "      <th>4</th>\n",
       "      <td>Geronimo Stilton #13 and #14</td>\n",
       "      <td>Writtenby:GeronimoStilton</td>\n",
       "      <td>Narratedby:BillLobley</td>\n",
       "      <td>2 hrs and 25 mins</td>\n",
       "      <td>08-02-08</td>\n",
       "      <td>English</td>\n",
       "      <td>4.5 out of 5 stars33 ratings</td>\n",
       "      <td>467.00</td>\n",
       "    </tr>\n",
       "  </tbody>\n",
       "</table>\n",
       "</div>"
      ],
      "text/plain": [
       "                                         name                     author  \\\n",
       "0                  Geronimo Stilton #11 & #12  Writtenby:GeronimoStilton   \n",
       "1  The Lightning Thief: Percy Jackson, Book 1      Writtenby:RickRiordan   \n",
       "2     Magic Tree House Collection: Books 9-16  Writtenby:MaryPopeOsborne   \n",
       "3       Magnus Chase and the Ship of the Dead      Writtenby:RickRiordan   \n",
       "4                Geronimo Stilton #13 and #14  Writtenby:GeronimoStilton   \n",
       "\n",
       "                     narrator                time releasedate language  \\\n",
       "0       Narratedby:BillLobely   2 hrs and 20 mins    04-08-08  English   \n",
       "1   Narratedby:JesseBernstein              10 hrs    13-01-10  English   \n",
       "2  Narratedby:MaryPopeOsborne   5 hrs and 23 mins    24-08-11  English   \n",
       "3    Narratedby:MichaelCrouch  12 hrs and 58 mins    03-10-17  English   \n",
       "4       Narratedby:BillLobley   2 hrs and 25 mins    08-02-08  English   \n",
       "\n",
       "                           stars     price  \n",
       "0     5 out of 5 stars34 ratings    468.00  \n",
       "1  4.5 out of 5 stars181 ratings    820.00  \n",
       "2      5 out of 5 stars6 ratings  1,206.00  \n",
       "3     5 out of 5 stars41 ratings    820.00  \n",
       "4   4.5 out of 5 stars33 ratings    467.00  "
      ]
     },
     "execution_count": 2,
     "metadata": {},
     "output_type": "execute_result"
    }
   ],
   "source": [
    "audible = pd.read_csv('audible_sample.csv')\n",
    "audible.head()"
   ]
  },
  {
   "cell_type": "code",
   "execution_count": 3,
   "metadata": {},
   "outputs": [
    {
     "data": {
      "text/plain": [
       "name           0\n",
       "author         0\n",
       "narrator       0\n",
       "time           0\n",
       "releasedate    0\n",
       "language       0\n",
       "stars          0\n",
       "price          0\n",
       "dtype: int64"
      ]
     },
     "execution_count": 3,
     "metadata": {},
     "output_type": "execute_result"
    }
   ],
   "source": [
    "audible.isnull().sum()"
   ]
  },
  {
   "cell_type": "code",
   "execution_count": 4,
   "metadata": {},
   "outputs": [
    {
     "name": "stdout",
     "output_type": "stream",
     "text": [
      "<class 'pandas.core.frame.DataFrame'>\n",
      "RangeIndex: 26231 entries, 0 to 26230\n",
      "Data columns (total 8 columns):\n",
      " #   Column       Non-Null Count  Dtype \n",
      "---  ------       --------------  ----- \n",
      " 0   name         26231 non-null  object\n",
      " 1   author       26231 non-null  object\n",
      " 2   narrator     26231 non-null  object\n",
      " 3   time         26231 non-null  object\n",
      " 4   releasedate  26231 non-null  object\n",
      " 5   language     26231 non-null  object\n",
      " 6   stars        26231 non-null  object\n",
      " 7   price        26231 non-null  object\n",
      "dtypes: object(8)\n",
      "memory usage: 1.6+ MB\n"
     ]
    }
   ],
   "source": [
    "audible.info()"
   ]
  },
  {
   "cell_type": "code",
   "execution_count": 5,
   "metadata": {},
   "outputs": [
    {
     "data": {
      "text/plain": [
       "18341"
      ]
     },
     "execution_count": 5,
     "metadata": {},
     "output_type": "execute_result"
    }
   ],
   "source": [
    "audible['author'].nunique()"
   ]
  },
  {
   "cell_type": "code",
   "execution_count": 6,
   "metadata": {},
   "outputs": [],
   "source": [
    "def remove_unwanted_words(text):\n",
    "    unwanted_words = [\n",
    "        'traductrice', 'illustrateur', 'epilogue', 'translator', 'foreword', 'introduction', 'forewordby', 'editor', \n",
    "        'coverillustrator', 'foreward', 'compilation', 'with', 'curatore', 'translation', 'interviewer',\n",
    "        'afterword', 'contribution', 'traductor', 'traduttore', 'ilustrador', 'music', 'preface', 'collaborator',\n",
    "        'illustratore', 'AbridgedandIntroducedby', 'traducteur', 'contributor', 'forewordintroduction', 'producer',\n",
    "        'translator/editor', 'editorforeword', 'adaptation', 'Afterwordby', 'abridgementandintroduction', 'forward', \n",
    "        'translatedby', 'commentaries', 'photographer', 'illustrator', 'featuring', 'editorintroduction',\n",
    "        'introductionandtranslation', 'translatorintroduction', 'translatortransator', 'serieseditor', \n",
    "        'introductioncontributor'\n",
    "    ]\n",
    "    \n",
    "    # Pattern to match unwanted words\n",
    "    pattern = r'[-,\\s]?(?:' + '|'.join(unwanted_words) + r')\\b-?(?=,|$)'  # Updated pattern\n",
    "    \n",
    "    # Removing unwanted words\n",
    "    text = re.sub(pattern, '', text, flags = re.IGNORECASE)\n",
    "    \n",
    "    # Removing extra spaces and hyphens\n",
    "    text = re.sub(r'[-,\\s]+$', '', text).strip()\n",
    "    \n",
    "    # Removing trailing comma\n",
    "    if text.endswith(','):\n",
    "        text = text[:-1]\n",
    "    \n",
    "    return text"
   ]
  },
  {
   "cell_type": "code",
   "execution_count": 7,
   "metadata": {},
   "outputs": [
    {
     "data": {
      "text/plain": [
       "0        Writtenby:GeronimoStilton\n",
       "1            Writtenby:RickRiordan\n",
       "2        Writtenby:MaryPopeOsborne\n",
       "3            Writtenby:RickRiordan\n",
       "4        Writtenby:GeronimoStilton\n",
       "                   ...            \n",
       "26226         Writtenby:JeffShaara\n",
       "26227     Writtenby:StephenBrennan\n",
       "26228       Writtenby:ColinThubron\n",
       "26229       Writtenby:ChrisStewart\n",
       "26230      Writtenby:MarkKurlansky\n",
       "Name: author, Length: 26231, dtype: object"
      ]
     },
     "execution_count": 7,
     "metadata": {},
     "output_type": "execute_result"
    }
   ],
   "source": [
    "audible['author'] = audible['author'].apply(remove_unwanted_words)\n",
    "audible['author']"
   ]
  },
  {
   "cell_type": "code",
   "execution_count": 8,
   "metadata": {},
   "outputs": [
    {
     "data": {
      "text/plain": [
       "0        GeronimoStilton\n",
       "1            RickRiordan\n",
       "2        MaryPopeOsborne\n",
       "3            RickRiordan\n",
       "4        GeronimoStilton\n",
       "              ...       \n",
       "26226         JeffShaara\n",
       "26227     StephenBrennan\n",
       "26228       ColinThubron\n",
       "26229       ChrisStewart\n",
       "26230      MarkKurlansky\n",
       "Name: author, Length: 26231, dtype: object"
      ]
     },
     "execution_count": 8,
     "metadata": {},
     "output_type": "execute_result"
    }
   ],
   "source": [
    "def author_name(text):\n",
    "    return text.split(':')[1]\n",
    "\n",
    "audible['author'] = audible['author'].apply(author_name)\n",
    "audible['author']"
   ]
  },
  {
   "cell_type": "code",
   "execution_count": 9,
   "metadata": {},
   "outputs": [
    {
     "data": {
      "text/plain": [
       "0             Narratedby:BillLobely\n",
       "1         Narratedby:JesseBernstein\n",
       "2        Narratedby:MaryPopeOsborne\n",
       "3          Narratedby:MichaelCrouch\n",
       "4             Narratedby:BillLobley\n",
       "                    ...            \n",
       "26226      Narratedby:RobertsonDean\n",
       "26227     Narratedby:KevinStillwell\n",
       "26228     Narratedby:JonathanKeeble\n",
       "26229       Narratedby:ChrisStewart\n",
       "26230        Narratedby:FleetCooper\n",
       "Name: narrator, Length: 26231, dtype: object"
      ]
     },
     "execution_count": 9,
     "metadata": {},
     "output_type": "execute_result"
    }
   ],
   "source": [
    "audible['narrator'] = audible['narrator'].apply(remove_unwanted_words)\n",
    "audible['narrator']"
   ]
  },
  {
   "cell_type": "code",
   "execution_count": 10,
   "metadata": {},
   "outputs": [
    {
     "data": {
      "text/plain": [
       "0             BillLobely\n",
       "1         JesseBernstein\n",
       "2        MaryPopeOsborne\n",
       "3          MichaelCrouch\n",
       "4             BillLobley\n",
       "              ...       \n",
       "26226      RobertsonDean\n",
       "26227     KevinStillwell\n",
       "26228     JonathanKeeble\n",
       "26229       ChrisStewart\n",
       "26230        FleetCooper\n",
       "Name: narrator, Length: 26231, dtype: object"
      ]
     },
     "execution_count": 10,
     "metadata": {},
     "output_type": "execute_result"
    }
   ],
   "source": [
    "def narrator_name(text):\n",
    "    return text.split(':')[1]\n",
    "\n",
    "audible['narrator'] = audible['narrator'].apply(narrator_name)\n",
    "audible['narrator']"
   ]
  },
  {
   "cell_type": "code",
   "execution_count": 11,
   "metadata": {},
   "outputs": [],
   "source": [
    "def extract_numbers(text):\n",
    "    pattern = r'\\d+' # Regular expression pattern to match digits\n",
    "    numbers = re.findall(pattern, text) # Finding all matches of the pattern in the text  \n",
    "    return [int(num) for num in numbers] # Converting the numbers from strings to integers"
   ]
  },
  {
   "cell_type": "code",
   "execution_count": 12,
   "metadata": {},
   "outputs": [
    {
     "data": {
      "text/plain": [
       "0         [2, 20]\n",
       "1            [10]\n",
       "2         [5, 23]\n",
       "3        [12, 58]\n",
       "4         [2, 25]\n",
       "           ...   \n",
       "26226        [31]\n",
       "26227    [12, 17]\n",
       "26228    [11, 51]\n",
       "26229     [7, 34]\n",
       "26230      [6, 1]\n",
       "Name: time, Length: 26231, dtype: object"
      ]
     },
     "execution_count": 12,
     "metadata": {},
     "output_type": "execute_result"
    }
   ],
   "source": [
    "audible['time'] = audible['time'].apply(extract_numbers)\n",
    "audible['time']"
   ]
  },
  {
   "cell_type": "code",
   "execution_count": 13,
   "metadata": {},
   "outputs": [
    {
     "data": {
      "text/plain": [
       "0         140\n",
       "1         600\n",
       "2         323\n",
       "3         778\n",
       "4         145\n",
       "         ... \n",
       "26226    1860\n",
       "26227     737\n",
       "26228     711\n",
       "26229     454\n",
       "26230     361\n",
       "Name: time, Length: 26231, dtype: int64"
      ]
     },
     "execution_count": 13,
     "metadata": {},
     "output_type": "execute_result"
    }
   ],
   "source": [
    "def hour_to_minutes(time):\n",
    "    if len(time) == 2:\n",
    "        hours, mins = time\n",
    "        return hours * 60 + mins\n",
    "    elif len(time) == 1:\n",
    "        hours = time[0]\n",
    "        return hours * 60\n",
    "\n",
    "audible['time'] = audible['time'].apply(hour_to_minutes)\n",
    "audible['time']"
   ]
  },
  {
   "cell_type": "code",
   "execution_count": 14,
   "metadata": {},
   "outputs": [
    {
     "name": "stdout",
     "output_type": "stream",
     "text": [
      "<class 'pandas.core.frame.DataFrame'>\n",
      "RangeIndex: 26231 entries, 0 to 26230\n",
      "Data columns (total 8 columns):\n",
      " #   Column       Non-Null Count  Dtype \n",
      "---  ------       --------------  ----- \n",
      " 0   name         26231 non-null  object\n",
      " 1   author       26231 non-null  object\n",
      " 2   narrator     26231 non-null  object\n",
      " 3   time         26231 non-null  int64 \n",
      " 4   releasedate  26231 non-null  object\n",
      " 5   language     26231 non-null  object\n",
      " 6   stars        26231 non-null  object\n",
      " 7   price        26231 non-null  object\n",
      "dtypes: int64(1), object(7)\n",
      "memory usage: 1.6+ MB\n"
     ]
    }
   ],
   "source": [
    "audible.info()"
   ]
  },
  {
   "cell_type": "code",
   "execution_count": 15,
   "metadata": {},
   "outputs": [],
   "source": [
    "def date_change(date_str):\n",
    "    formats = ['%d/%m/%Y', '%d-%m-%y'] # DD/MM/YYYY or dd-mm-yy\n",
    "    for fmt in formats:\n",
    "        try:\n",
    "            date_object = datetime.strptime(date_str, fmt) # Parsing the date string into a datetime object\n",
    "            formatted_date = date_object.strftime('%Y-%m-%d') # Formatting the datetime object into yyyy-mm-dd format\n",
    "            return formatted_date \n",
    "        except ValueError:\n",
    "            pass "
   ]
  },
  {
   "cell_type": "code",
   "execution_count": 16,
   "metadata": {},
   "outputs": [],
   "source": [
    "audible['releasedate'] = audible['releasedate'].apply(date_change)"
   ]
  },
  {
   "cell_type": "code",
   "execution_count": 17,
   "metadata": {},
   "outputs": [
    {
     "name": "stdout",
     "output_type": "stream",
     "text": [
      "<class 'pandas.core.frame.DataFrame'>\n",
      "RangeIndex: 26231 entries, 0 to 26230\n",
      "Data columns (total 8 columns):\n",
      " #   Column       Non-Null Count  Dtype \n",
      "---  ------       --------------  ----- \n",
      " 0   name         26231 non-null  object\n",
      " 1   author       26231 non-null  object\n",
      " 2   narrator     26231 non-null  object\n",
      " 3   time         26231 non-null  int64 \n",
      " 4   releasedate  26231 non-null  object\n",
      " 5   language     26231 non-null  object\n",
      " 6   stars        26231 non-null  object\n",
      " 7   price        26231 non-null  object\n",
      "dtypes: int64(1), object(7)\n",
      "memory usage: 1.6+ MB\n"
     ]
    }
   ],
   "source": [
    "audible.info()"
   ]
  },
  {
   "cell_type": "code",
   "execution_count": 18,
   "metadata": {},
   "outputs": [
    {
     "data": {
      "text/plain": [
       "0       2008-08-04\n",
       "1       2010-01-13\n",
       "2       2011-08-24\n",
       "3       2017-10-03\n",
       "4       2008-02-08\n",
       "           ...    \n",
       "26226   2007-03-26\n",
       "26227   2013-02-28\n",
       "26228   2018-01-01\n",
       "26229   2017-03-09\n",
       "26230   2017-03-07\n",
       "Name: releasedate, Length: 26231, dtype: datetime64[ns]"
      ]
     },
     "execution_count": 18,
     "metadata": {},
     "output_type": "execute_result"
    }
   ],
   "source": [
    "audible['releasedate'] = pd.to_datetime(audible['releasedate'], errors='coerce')\n",
    "audible['releasedate']"
   ]
  },
  {
   "cell_type": "code",
   "execution_count": 19,
   "metadata": {},
   "outputs": [
    {
     "data": {
      "text/plain": [
       "array(['English', 'Hindi', 'french', 'italian', 'spanish', 'swedish',\n",
       "       'german', 'finnish', 'catalan', 'dutch', 'russian', 'danish',\n",
       "       'afrikaans', 'polish', 'galician', 'romanian', 'japanese',\n",
       "       'portuguese', 'icelandic', 'czech', 'bulgarian',\n",
       "       'mandarin_chinese', 'hungarian', 'urdu', 'korean', 'greek',\n",
       "       'turkish', 'arabic', 'tamil', 'norwegian', 'slovene'], dtype=object)"
      ]
     },
     "execution_count": 19,
     "metadata": {},
     "output_type": "execute_result"
    }
   ],
   "source": [
    "audible['language'].unique()"
   ]
  },
  {
   "cell_type": "code",
   "execution_count": 20,
   "metadata": {},
   "outputs": [
    {
     "data": {
      "text/plain": [
       "0        English\n",
       "1        English\n",
       "2        English\n",
       "3        English\n",
       "4        English\n",
       "          ...   \n",
       "26226    English\n",
       "26227    English\n",
       "26228    English\n",
       "26229    English\n",
       "26230    English\n",
       "Name: language, Length: 26231, dtype: object"
      ]
     },
     "execution_count": 20,
     "metadata": {},
     "output_type": "execute_result"
    }
   ],
   "source": [
    "def proper_case(text):\n",
    "    return text.title()\n",
    "\n",
    "audible['language'] = audible['language'].apply(proper_case)\n",
    "audible['language']"
   ]
  },
  {
   "cell_type": "code",
   "execution_count": 21,
   "metadata": {},
   "outputs": [
    {
     "data": {
      "text/plain": [
       "array(['English', 'Hindi', 'French', 'Italian', 'Spanish', 'Swedish',\n",
       "       'German', 'Finnish', 'Catalan', 'Dutch', 'Russian', 'Danish',\n",
       "       'Afrikaans', 'Polish', 'Galician', 'Romanian', 'Japanese',\n",
       "       'Portuguese', 'Icelandic', 'Czech', 'Bulgarian',\n",
       "       'Mandarin_Chinese', 'Hungarian', 'Urdu', 'Korean', 'Greek',\n",
       "       'Turkish', 'Arabic', 'Tamil', 'Norwegian', 'Slovene'], dtype=object)"
      ]
     },
     "execution_count": 21,
     "metadata": {},
     "output_type": "execute_result"
    }
   ],
   "source": [
    "audible['language'].unique()"
   ]
  },
  {
   "cell_type": "code",
   "execution_count": 22,
   "metadata": {},
   "outputs": [],
   "source": [
    "def extract_ratings(text):\n",
    "    if 'stars' in text:\n",
    "        match = re.search(r'\\d+', text.split('stars')[1])\n",
    "        if match:\n",
    "            return int(match.group()) # returns a string representing the matched digits (if any) in the text\n",
    "    return 0\n",
    "\n",
    "audible['ratings'] = audible['stars'].apply(extract_ratings)"
   ]
  },
  {
   "cell_type": "code",
   "execution_count": 23,
   "metadata": {},
   "outputs": [
    {
     "data": {
      "text/plain": [
       "0          5\n",
       "1        4.5\n",
       "2          5\n",
       "3          5\n",
       "4        4.5\n",
       "        ... \n",
       "26226    Not\n",
       "26227    Not\n",
       "26228    Not\n",
       "26229    Not\n",
       "26230    Not\n",
       "Name: stars, Length: 26231, dtype: object"
      ]
     },
     "execution_count": 23,
     "metadata": {},
     "output_type": "execute_result"
    }
   ],
   "source": [
    "def extract_stars(text):\n",
    "    i = text.split(' ')[0]\n",
    "    try:\n",
    "        return float(i)\n",
    "    except ValueError:\n",
    "        return i\n",
    "\n",
    "audible['stars'] = audible['stars'].apply(extract_stars)\n",
    "audible['stars']"
   ]
  },
  {
   "cell_type": "code",
   "execution_count": 24,
   "metadata": {},
   "outputs": [],
   "source": [
    "audible['stars'] = audible['stars'].replace('Not', 0)\n",
    "audible['stars'] = pd.to_numeric(audible['stars'])"
   ]
  },
  {
   "cell_type": "code",
   "execution_count": 25,
   "metadata": {},
   "outputs": [
    {
     "data": {
      "text/plain": [
       "array([5. , 4.5, 4. , 0. , 3.5, 3. , 2. , 1. , 2.5, 1.5])"
      ]
     },
     "execution_count": 25,
     "metadata": {},
     "output_type": "execute_result"
    }
   ],
   "source": [
    "audible['stars'].unique()"
   ]
  },
  {
   "cell_type": "code",
   "execution_count": 26,
   "metadata": {},
   "outputs": [
    {
     "name": "stdout",
     "output_type": "stream",
     "text": [
      "<class 'pandas.core.frame.DataFrame'>\n",
      "RangeIndex: 26231 entries, 0 to 26230\n",
      "Data columns (total 9 columns):\n",
      " #   Column       Non-Null Count  Dtype         \n",
      "---  ------       --------------  -----         \n",
      " 0   name         26231 non-null  object        \n",
      " 1   author       26231 non-null  object        \n",
      " 2   narrator     26231 non-null  object        \n",
      " 3   time         26231 non-null  int64         \n",
      " 4   releasedate  26231 non-null  datetime64[ns]\n",
      " 5   language     26231 non-null  object        \n",
      " 6   stars        26231 non-null  float64       \n",
      " 7   price        26231 non-null  object        \n",
      " 8   ratings      26231 non-null  int64         \n",
      "dtypes: datetime64[ns](1), float64(1), int64(2), object(5)\n",
      "memory usage: 1.8+ MB\n"
     ]
    }
   ],
   "source": [
    "audible.info()"
   ]
  },
  {
   "cell_type": "code",
   "execution_count": 27,
   "metadata": {},
   "outputs": [
    {
     "data": {
      "text/html": [
       "<div>\n",
       "<style scoped>\n",
       "    .dataframe tbody tr th:only-of-type {\n",
       "        vertical-align: middle;\n",
       "    }\n",
       "\n",
       "    .dataframe tbody tr th {\n",
       "        vertical-align: top;\n",
       "    }\n",
       "\n",
       "    .dataframe thead th {\n",
       "        text-align: right;\n",
       "    }\n",
       "</style>\n",
       "<table border=\"1\" class=\"dataframe\">\n",
       "  <thead>\n",
       "    <tr style=\"text-align: right;\">\n",
       "      <th></th>\n",
       "      <th>name</th>\n",
       "      <th>author</th>\n",
       "      <th>narrator</th>\n",
       "      <th>time</th>\n",
       "      <th>releasedate</th>\n",
       "      <th>language</th>\n",
       "      <th>stars</th>\n",
       "      <th>price</th>\n",
       "      <th>ratings</th>\n",
       "    </tr>\n",
       "  </thead>\n",
       "  <tbody>\n",
       "    <tr>\n",
       "      <th>0</th>\n",
       "      <td>Geronimo Stilton #11 &amp; #12</td>\n",
       "      <td>GeronimoStilton</td>\n",
       "      <td>BillLobely</td>\n",
       "      <td>140</td>\n",
       "      <td>2008-08-04</td>\n",
       "      <td>English</td>\n",
       "      <td>5.0</td>\n",
       "      <td>468.00</td>\n",
       "      <td>34</td>\n",
       "    </tr>\n",
       "    <tr>\n",
       "      <th>1</th>\n",
       "      <td>The Lightning Thief: Percy Jackson, Book 1</td>\n",
       "      <td>RickRiordan</td>\n",
       "      <td>JesseBernstein</td>\n",
       "      <td>600</td>\n",
       "      <td>2010-01-13</td>\n",
       "      <td>English</td>\n",
       "      <td>4.5</td>\n",
       "      <td>820.00</td>\n",
       "      <td>181</td>\n",
       "    </tr>\n",
       "    <tr>\n",
       "      <th>2</th>\n",
       "      <td>Magic Tree House Collection: Books 9-16</td>\n",
       "      <td>MaryPopeOsborne</td>\n",
       "      <td>MaryPopeOsborne</td>\n",
       "      <td>323</td>\n",
       "      <td>2011-08-24</td>\n",
       "      <td>English</td>\n",
       "      <td>5.0</td>\n",
       "      <td>1,206.00</td>\n",
       "      <td>6</td>\n",
       "    </tr>\n",
       "    <tr>\n",
       "      <th>3</th>\n",
       "      <td>Magnus Chase and the Ship of the Dead</td>\n",
       "      <td>RickRiordan</td>\n",
       "      <td>MichaelCrouch</td>\n",
       "      <td>778</td>\n",
       "      <td>2017-10-03</td>\n",
       "      <td>English</td>\n",
       "      <td>5.0</td>\n",
       "      <td>820.00</td>\n",
       "      <td>41</td>\n",
       "    </tr>\n",
       "    <tr>\n",
       "      <th>4</th>\n",
       "      <td>Geronimo Stilton #13 and #14</td>\n",
       "      <td>GeronimoStilton</td>\n",
       "      <td>BillLobley</td>\n",
       "      <td>145</td>\n",
       "      <td>2008-02-08</td>\n",
       "      <td>English</td>\n",
       "      <td>4.5</td>\n",
       "      <td>467.00</td>\n",
       "      <td>33</td>\n",
       "    </tr>\n",
       "  </tbody>\n",
       "</table>\n",
       "</div>"
      ],
      "text/plain": [
       "                                         name           author  \\\n",
       "0                  Geronimo Stilton #11 & #12  GeronimoStilton   \n",
       "1  The Lightning Thief: Percy Jackson, Book 1      RickRiordan   \n",
       "2     Magic Tree House Collection: Books 9-16  MaryPopeOsborne   \n",
       "3       Magnus Chase and the Ship of the Dead      RickRiordan   \n",
       "4                Geronimo Stilton #13 and #14  GeronimoStilton   \n",
       "\n",
       "          narrator  time releasedate language  stars     price  ratings  \n",
       "0       BillLobely   140  2008-08-04  English    5.0    468.00       34  \n",
       "1   JesseBernstein   600  2010-01-13  English    4.5    820.00      181  \n",
       "2  MaryPopeOsborne   323  2011-08-24  English    5.0  1,206.00        6  \n",
       "3    MichaelCrouch   778  2017-10-03  English    5.0    820.00       41  \n",
       "4       BillLobley   145  2008-02-08  English    4.5    467.00       33  "
      ]
     },
     "execution_count": 27,
     "metadata": {},
     "output_type": "execute_result"
    }
   ],
   "source": [
    "audible.head()"
   ]
  },
  {
   "cell_type": "code",
   "execution_count": 28,
   "metadata": {},
   "outputs": [],
   "source": [
    "def price_mod(text):\n",
    "    if 'Free' in text:\n",
    "        return 0.00\n",
    "    else:\n",
    "        text = text.replace(',', '')\n",
    "        return float(text)\n",
    "    \n",
    "audible['price'] = audible['price'].apply(price_mod)"
   ]
  },
  {
   "cell_type": "code",
   "execution_count": 29,
   "metadata": {},
   "outputs": [],
   "source": [
    "audible['price']\n",
    "audible['price'] = pd.to_numeric(audible['price'])"
   ]
  },
  {
   "cell_type": "code",
   "execution_count": 30,
   "metadata": {},
   "outputs": [
    {
     "name": "stdout",
     "output_type": "stream",
     "text": [
      "<class 'pandas.core.frame.DataFrame'>\n",
      "RangeIndex: 26231 entries, 0 to 26230\n",
      "Data columns (total 9 columns):\n",
      " #   Column       Non-Null Count  Dtype         \n",
      "---  ------       --------------  -----         \n",
      " 0   name         26231 non-null  object        \n",
      " 1   author       26231 non-null  object        \n",
      " 2   narrator     26231 non-null  object        \n",
      " 3   time         26231 non-null  int64         \n",
      " 4   releasedate  26231 non-null  datetime64[ns]\n",
      " 5   language     26231 non-null  object        \n",
      " 6   stars        26231 non-null  float64       \n",
      " 7   price        26231 non-null  float64       \n",
      " 8   ratings      26231 non-null  int64         \n",
      "dtypes: datetime64[ns](1), float64(2), int64(2), object(4)\n",
      "memory usage: 1.8+ MB\n"
     ]
    }
   ],
   "source": [
    "audible.info()"
   ]
  },
  {
   "cell_type": "code",
   "execution_count": 31,
   "metadata": {},
   "outputs": [
    {
     "data": {
      "text/html": [
       "<div>\n",
       "<style scoped>\n",
       "    .dataframe tbody tr th:only-of-type {\n",
       "        vertical-align: middle;\n",
       "    }\n",
       "\n",
       "    .dataframe tbody tr th {\n",
       "        vertical-align: top;\n",
       "    }\n",
       "\n",
       "    .dataframe thead th {\n",
       "        text-align: right;\n",
       "    }\n",
       "</style>\n",
       "<table border=\"1\" class=\"dataframe\">\n",
       "  <thead>\n",
       "    <tr style=\"text-align: right;\">\n",
       "      <th></th>\n",
       "      <th>time</th>\n",
       "      <th>stars</th>\n",
       "      <th>price</th>\n",
       "      <th>ratings</th>\n",
       "    </tr>\n",
       "  </thead>\n",
       "  <tbody>\n",
       "    <tr>\n",
       "      <th>count</th>\n",
       "      <td>26231.00000</td>\n",
       "      <td>26231.000000</td>\n",
       "      <td>26231.000000</td>\n",
       "      <td>26231.000000</td>\n",
       "    </tr>\n",
       "    <tr>\n",
       "      <th>mean</th>\n",
       "      <td>652.72178</td>\n",
       "      <td>0.761008</td>\n",
       "      <td>559.138881</td>\n",
       "      <td>2.372041</td>\n",
       "    </tr>\n",
       "    <tr>\n",
       "      <th>std</th>\n",
       "      <td>644.13113</td>\n",
       "      <td>1.707095</td>\n",
       "      <td>335.070331</td>\n",
       "      <td>21.111288</td>\n",
       "    </tr>\n",
       "    <tr>\n",
       "      <th>min</th>\n",
       "      <td>60.00000</td>\n",
       "      <td>0.000000</td>\n",
       "      <td>0.000000</td>\n",
       "      <td>0.000000</td>\n",
       "    </tr>\n",
       "    <tr>\n",
       "      <th>25%</th>\n",
       "      <td>292.00000</td>\n",
       "      <td>0.000000</td>\n",
       "      <td>268.000000</td>\n",
       "      <td>0.000000</td>\n",
       "    </tr>\n",
       "    <tr>\n",
       "      <th>50%</th>\n",
       "      <td>481.00000</td>\n",
       "      <td>0.000000</td>\n",
       "      <td>585.000000</td>\n",
       "      <td>0.000000</td>\n",
       "    </tr>\n",
       "    <tr>\n",
       "      <th>75%</th>\n",
       "      <td>720.00000</td>\n",
       "      <td>0.000000</td>\n",
       "      <td>755.000000</td>\n",
       "      <td>0.000000</td>\n",
       "    </tr>\n",
       "    <tr>\n",
       "      <th>max</th>\n",
       "      <td>8595.00000</td>\n",
       "      <td>5.000000</td>\n",
       "      <td>7198.000000</td>\n",
       "      <td>930.000000</td>\n",
       "    </tr>\n",
       "  </tbody>\n",
       "</table>\n",
       "</div>"
      ],
      "text/plain": [
       "              time         stars         price       ratings\n",
       "count  26231.00000  26231.000000  26231.000000  26231.000000\n",
       "mean     652.72178      0.761008    559.138881      2.372041\n",
       "std      644.13113      1.707095    335.070331     21.111288\n",
       "min       60.00000      0.000000      0.000000      0.000000\n",
       "25%      292.00000      0.000000    268.000000      0.000000\n",
       "50%      481.00000      0.000000    585.000000      0.000000\n",
       "75%      720.00000      0.000000    755.000000      0.000000\n",
       "max     8595.00000      5.000000   7198.000000    930.000000"
      ]
     },
     "execution_count": 31,
     "metadata": {},
     "output_type": "execute_result"
    }
   ],
   "source": [
    "audible.describe()"
   ]
  },
  {
   "cell_type": "code",
   "execution_count": 32,
   "metadata": {},
   "outputs": [
    {
     "data": {
      "text/html": [
       "<div>\n",
       "<style scoped>\n",
       "    .dataframe tbody tr th:only-of-type {\n",
       "        vertical-align: middle;\n",
       "    }\n",
       "\n",
       "    .dataframe tbody tr th {\n",
       "        vertical-align: top;\n",
       "    }\n",
       "\n",
       "    .dataframe thead th {\n",
       "        text-align: right;\n",
       "    }\n",
       "</style>\n",
       "<table border=\"1\" class=\"dataframe\">\n",
       "  <thead>\n",
       "    <tr style=\"text-align: right;\">\n",
       "      <th></th>\n",
       "      <th>name</th>\n",
       "      <th>author</th>\n",
       "      <th>narrator</th>\n",
       "      <th>time</th>\n",
       "      <th>releasedate</th>\n",
       "      <th>language</th>\n",
       "      <th>stars</th>\n",
       "      <th>price</th>\n",
       "      <th>ratings</th>\n",
       "    </tr>\n",
       "  </thead>\n",
       "  <tbody>\n",
       "    <tr>\n",
       "      <th>0</th>\n",
       "      <td>Geronimo Stilton #11 &amp; #12</td>\n",
       "      <td>GeronimoStilton</td>\n",
       "      <td>BillLobely</td>\n",
       "      <td>140</td>\n",
       "      <td>2008-08-04</td>\n",
       "      <td>English</td>\n",
       "      <td>5.0</td>\n",
       "      <td>468.0</td>\n",
       "      <td>34</td>\n",
       "    </tr>\n",
       "    <tr>\n",
       "      <th>1</th>\n",
       "      <td>The Lightning Thief: Percy Jackson, Book 1</td>\n",
       "      <td>RickRiordan</td>\n",
       "      <td>JesseBernstein</td>\n",
       "      <td>600</td>\n",
       "      <td>2010-01-13</td>\n",
       "      <td>English</td>\n",
       "      <td>4.5</td>\n",
       "      <td>820.0</td>\n",
       "      <td>181</td>\n",
       "    </tr>\n",
       "    <tr>\n",
       "      <th>2</th>\n",
       "      <td>Magic Tree House Collection: Books 9-16</td>\n",
       "      <td>MaryPopeOsborne</td>\n",
       "      <td>MaryPopeOsborne</td>\n",
       "      <td>323</td>\n",
       "      <td>2011-08-24</td>\n",
       "      <td>English</td>\n",
       "      <td>5.0</td>\n",
       "      <td>1206.0</td>\n",
       "      <td>6</td>\n",
       "    </tr>\n",
       "    <tr>\n",
       "      <th>3</th>\n",
       "      <td>Magnus Chase and the Ship of the Dead</td>\n",
       "      <td>RickRiordan</td>\n",
       "      <td>MichaelCrouch</td>\n",
       "      <td>778</td>\n",
       "      <td>2017-10-03</td>\n",
       "      <td>English</td>\n",
       "      <td>5.0</td>\n",
       "      <td>820.0</td>\n",
       "      <td>41</td>\n",
       "    </tr>\n",
       "    <tr>\n",
       "      <th>4</th>\n",
       "      <td>Geronimo Stilton #13 and #14</td>\n",
       "      <td>GeronimoStilton</td>\n",
       "      <td>BillLobley</td>\n",
       "      <td>145</td>\n",
       "      <td>2008-02-08</td>\n",
       "      <td>English</td>\n",
       "      <td>4.5</td>\n",
       "      <td>467.0</td>\n",
       "      <td>33</td>\n",
       "    </tr>\n",
       "    <tr>\n",
       "      <th>5</th>\n",
       "      <td>Exile</td>\n",
       "      <td>ShannonMessenger</td>\n",
       "      <td>CaitlinKelly</td>\n",
       "      <td>881</td>\n",
       "      <td>2018-11-06</td>\n",
       "      <td>English</td>\n",
       "      <td>5.0</td>\n",
       "      <td>836.0</td>\n",
       "      <td>20</td>\n",
       "    </tr>\n",
       "    <tr>\n",
       "      <th>6</th>\n",
       "      <td>Merlin Mission Collection</td>\n",
       "      <td>MaryPopeOsborne</td>\n",
       "      <td>MaryPopeOsborne</td>\n",
       "      <td>618</td>\n",
       "      <td>2017-05-02</td>\n",
       "      <td>English</td>\n",
       "      <td>5.0</td>\n",
       "      <td>1256.0</td>\n",
       "      <td>11</td>\n",
       "    </tr>\n",
       "    <tr>\n",
       "      <th>7</th>\n",
       "      <td>Neverseen</td>\n",
       "      <td>ShannonMessenger</td>\n",
       "      <td>CaitlinKelly</td>\n",
       "      <td>1002</td>\n",
       "      <td>2018-11-06</td>\n",
       "      <td>English</td>\n",
       "      <td>5.0</td>\n",
       "      <td>1003.0</td>\n",
       "      <td>13</td>\n",
       "    </tr>\n",
       "    <tr>\n",
       "      <th>8</th>\n",
       "      <td>Magic Tree House Collection: Books 25-32</td>\n",
       "      <td>MaryPopeOsborne</td>\n",
       "      <td>MaryPopeOsborne</td>\n",
       "      <td>429</td>\n",
       "      <td>2020-09-01</td>\n",
       "      <td>English</td>\n",
       "      <td>5.0</td>\n",
       "      <td>1256.0</td>\n",
       "      <td>3</td>\n",
       "    </tr>\n",
       "    <tr>\n",
       "      <th>9</th>\n",
       "      <td>Geronimo Stilton #20 and #21</td>\n",
       "      <td>GeronimoStilton</td>\n",
       "      <td>BillLobley</td>\n",
       "      <td>152</td>\n",
       "      <td>2010-10-01</td>\n",
       "      <td>English</td>\n",
       "      <td>5.0</td>\n",
       "      <td>469.0</td>\n",
       "      <td>18</td>\n",
       "    </tr>\n",
       "    <tr>\n",
       "      <th>10</th>\n",
       "      <td>Geronimo Stilton #17</td>\n",
       "      <td>GeronimoStilton</td>\n",
       "      <td>BillLobley</td>\n",
       "      <td>148</td>\n",
       "      <td>2009-07-13</td>\n",
       "      <td>English</td>\n",
       "      <td>5.0</td>\n",
       "      <td>468.0</td>\n",
       "      <td>8</td>\n",
       "    </tr>\n",
       "    <tr>\n",
       "      <th>11</th>\n",
       "      <td>The House at Pooh Corner</td>\n",
       "      <td>A.A.Milne</td>\n",
       "      <td>PeterDennis</td>\n",
       "      <td>192</td>\n",
       "      <td>2005-04-05</td>\n",
       "      <td>English</td>\n",
       "      <td>5.0</td>\n",
       "      <td>374.0</td>\n",
       "      <td>5</td>\n",
       "    </tr>\n",
       "    <tr>\n",
       "      <th>12</th>\n",
       "      <td>Mission Unstoppable</td>\n",
       "      <td>DanGutman</td>\n",
       "      <td>MichaelGoldstrom</td>\n",
       "      <td>368</td>\n",
       "      <td>2013-08-01</td>\n",
       "      <td>English</td>\n",
       "      <td>5.0</td>\n",
       "      <td>702.0</td>\n",
       "      <td>8</td>\n",
       "    </tr>\n",
       "    <tr>\n",
       "      <th>13</th>\n",
       "      <td>The Adventures of Rusty</td>\n",
       "      <td>RuskinBond</td>\n",
       "      <td>NehaGargava</td>\n",
       "      <td>341</td>\n",
       "      <td>2018-11-01</td>\n",
       "      <td>Hindi</td>\n",
       "      <td>4.5</td>\n",
       "      <td>284.0</td>\n",
       "      <td>10</td>\n",
       "    </tr>\n",
       "    <tr>\n",
       "      <th>14</th>\n",
       "      <td>Lodestar</td>\n",
       "      <td>ShannonMessenger</td>\n",
       "      <td>CaitlinKelly</td>\n",
       "      <td>991</td>\n",
       "      <td>2018-11-06</td>\n",
       "      <td>English</td>\n",
       "      <td>5.0</td>\n",
       "      <td>1003.0</td>\n",
       "      <td>19</td>\n",
       "    </tr>\n",
       "    <tr>\n",
       "      <th>15</th>\n",
       "      <td>The Ghost of Grey Fox Inn</td>\n",
       "      <td>CarolynKeene</td>\n",
       "      <td>JorjeanaMarie</td>\n",
       "      <td>199</td>\n",
       "      <td>2017-03-20</td>\n",
       "      <td>English</td>\n",
       "      <td>5.0</td>\n",
       "      <td>305.0</td>\n",
       "      <td>11</td>\n",
       "    </tr>\n",
       "    <tr>\n",
       "      <th>16</th>\n",
       "      <td>Secret of the Red Arrow</td>\n",
       "      <td>FranklinW.Dixon</td>\n",
       "      <td>TimGregory</td>\n",
       "      <td>213</td>\n",
       "      <td>2015-11-04</td>\n",
       "      <td>English</td>\n",
       "      <td>4.5</td>\n",
       "      <td>305.0</td>\n",
       "      <td>16</td>\n",
       "    </tr>\n",
       "    <tr>\n",
       "      <th>17</th>\n",
       "      <td>The Lightning Thief: Percy Jackson, Book 1</td>\n",
       "      <td>RickRiordan</td>\n",
       "      <td>WalterLewis</td>\n",
       "      <td>231</td>\n",
       "      <td>2010-01-13</td>\n",
       "      <td>English</td>\n",
       "      <td>4.0</td>\n",
       "      <td>615.0</td>\n",
       "      <td>4</td>\n",
       "    </tr>\n",
       "    <tr>\n",
       "      <th>18</th>\n",
       "      <td>Clash of the Creepers</td>\n",
       "      <td>WinterMorgan</td>\n",
       "      <td>LukeDaniels</td>\n",
       "      <td>121</td>\n",
       "      <td>2015-07-07</td>\n",
       "      <td>English</td>\n",
       "      <td>5.0</td>\n",
       "      <td>233.0</td>\n",
       "      <td>10</td>\n",
       "    </tr>\n",
       "    <tr>\n",
       "      <th>19</th>\n",
       "      <td>The Skeletons Strike Back</td>\n",
       "      <td>WinterMorgan</td>\n",
       "      <td>LukeDaniels</td>\n",
       "      <td>121</td>\n",
       "      <td>2015-07-07</td>\n",
       "      <td>English</td>\n",
       "      <td>5.0</td>\n",
       "      <td>233.0</td>\n",
       "      <td>7</td>\n",
       "    </tr>\n",
       "  </tbody>\n",
       "</table>\n",
       "</div>"
      ],
      "text/plain": [
       "                                          name            author  \\\n",
       "0                   Geronimo Stilton #11 & #12   GeronimoStilton   \n",
       "1   The Lightning Thief: Percy Jackson, Book 1       RickRiordan   \n",
       "2      Magic Tree House Collection: Books 9-16   MaryPopeOsborne   \n",
       "3        Magnus Chase and the Ship of the Dead       RickRiordan   \n",
       "4                 Geronimo Stilton #13 and #14   GeronimoStilton   \n",
       "5                                        Exile  ShannonMessenger   \n",
       "6                    Merlin Mission Collection   MaryPopeOsborne   \n",
       "7                                    Neverseen  ShannonMessenger   \n",
       "8     Magic Tree House Collection: Books 25-32   MaryPopeOsborne   \n",
       "9                 Geronimo Stilton #20 and #21   GeronimoStilton   \n",
       "10                        Geronimo Stilton #17   GeronimoStilton   \n",
       "11                    The House at Pooh Corner         A.A.Milne   \n",
       "12                         Mission Unstoppable         DanGutman   \n",
       "13                     The Adventures of Rusty        RuskinBond   \n",
       "14                                    Lodestar  ShannonMessenger   \n",
       "15                   The Ghost of Grey Fox Inn      CarolynKeene   \n",
       "16                     Secret of the Red Arrow   FranklinW.Dixon   \n",
       "17  The Lightning Thief: Percy Jackson, Book 1       RickRiordan   \n",
       "18                       Clash of the Creepers      WinterMorgan   \n",
       "19                   The Skeletons Strike Back      WinterMorgan   \n",
       "\n",
       "            narrator  time releasedate language  stars   price  ratings  \n",
       "0         BillLobely   140  2008-08-04  English    5.0   468.0       34  \n",
       "1     JesseBernstein   600  2010-01-13  English    4.5   820.0      181  \n",
       "2    MaryPopeOsborne   323  2011-08-24  English    5.0  1206.0        6  \n",
       "3      MichaelCrouch   778  2017-10-03  English    5.0   820.0       41  \n",
       "4         BillLobley   145  2008-02-08  English    4.5   467.0       33  \n",
       "5       CaitlinKelly   881  2018-11-06  English    5.0   836.0       20  \n",
       "6    MaryPopeOsborne   618  2017-05-02  English    5.0  1256.0       11  \n",
       "7       CaitlinKelly  1002  2018-11-06  English    5.0  1003.0       13  \n",
       "8    MaryPopeOsborne   429  2020-09-01  English    5.0  1256.0        3  \n",
       "9         BillLobley   152  2010-10-01  English    5.0   469.0       18  \n",
       "10        BillLobley   148  2009-07-13  English    5.0   468.0        8  \n",
       "11       PeterDennis   192  2005-04-05  English    5.0   374.0        5  \n",
       "12  MichaelGoldstrom   368  2013-08-01  English    5.0   702.0        8  \n",
       "13       NehaGargava   341  2018-11-01    Hindi    4.5   284.0       10  \n",
       "14      CaitlinKelly   991  2018-11-06  English    5.0  1003.0       19  \n",
       "15     JorjeanaMarie   199  2017-03-20  English    5.0   305.0       11  \n",
       "16        TimGregory   213  2015-11-04  English    4.5   305.0       16  \n",
       "17       WalterLewis   231  2010-01-13  English    4.0   615.0        4  \n",
       "18       LukeDaniels   121  2015-07-07  English    5.0   233.0       10  \n",
       "19       LukeDaniels   121  2015-07-07  English    5.0   233.0        7  "
      ]
     },
     "execution_count": 32,
     "metadata": {},
     "output_type": "execute_result"
    }
   ],
   "source": [
    "audible.head(20)"
   ]
  },
  {
   "cell_type": "code",
   "execution_count": 33,
   "metadata": {},
   "outputs": [],
   "source": [
    "audible.to_csv('audible_edited.csv', index = False)"
   ]
  },
  {
   "cell_type": "code",
   "execution_count": null,
   "metadata": {},
   "outputs": [],
   "source": []
  },
  {
   "cell_type": "code",
   "execution_count": null,
   "metadata": {},
   "outputs": [],
   "source": []
  },
  {
   "cell_type": "code",
   "execution_count": null,
   "metadata": {},
   "outputs": [],
   "source": []
  },
  {
   "cell_type": "code",
   "execution_count": null,
   "metadata": {},
   "outputs": [],
   "source": []
  }
 ],
 "metadata": {
  "kernelspec": {
   "display_name": "Python 3",
   "language": "python",
   "name": "python3"
  },
  "language_info": {
   "codemirror_mode": {
    "name": "ipython",
    "version": 3
   },
   "file_extension": ".py",
   "mimetype": "text/x-python",
   "name": "python",
   "nbconvert_exporter": "python",
   "pygments_lexer": "ipython3",
   "version": "3.8.5"
  }
 },
 "nbformat": 4,
 "nbformat_minor": 4
}
